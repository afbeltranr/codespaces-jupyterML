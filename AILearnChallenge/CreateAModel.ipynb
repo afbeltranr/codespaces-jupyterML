{
 "cells": [
  {
   "cell_type": "markdown",
   "metadata": {},
   "source": [
    "\n",
    "# Creating, training and using a Model\n",
    "Models are computer code that processes information to make a prediction or a decision.\n",
    "\n",
    "Here we will train a model to guess a comfortable boot size for a dog, based on the size of the harness that fits them. \n",
    "# Peparing data\n",
    "\n",
    "The first thing we do with a model is load data. Writting directly in the code is one of the many ways we can load data."
   ]
  }
 ],
 "metadata": {
  "kernelspec": {
   "display_name": "Python 3",
   "language": "python",
   "name": "python3"
  },
  "language_info": {
   "name": "python",
   "version": "3.10.8"
  },
  "orig_nbformat": 4
 },
 "nbformat": 4,
 "nbformat_minor": 2
}
