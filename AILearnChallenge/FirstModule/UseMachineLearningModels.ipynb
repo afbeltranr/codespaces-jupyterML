{
 "cells": [
  {
   "cell_type": "markdown",
   "metadata": {},
   "source": [
    "# Exercise: Using a Trained Model on New Data\n",
    "\n",
    "\n",
    "In Unit 3, we created a basic model that let us find the relationship between a dog's harness size and their boot size. We showed how this model could then be used to make a prediction about a new, previously unseen dog.\n",
    "\n",
    "It's common to build, train, then use a model while we are just learning about machine learning; but in the real world, we don't want to train the model every time we want to make a prediction.\n",
    "\n",
    "Consider our avalanche-dog equipment store scenario:\n",
    "\n",
    "* We want to train the model just once, then load that model onto the server that runs our online store.\n",
    "\n",
    "* Although the model is trained on a dataset we downloaded from the internet, we actually want to use it to estimate the boot size of our customers' dogs who are not in this dataset!\n",
    "\n",
    "How can we do this?\n",
    "\n",
    "Here, we'll:\n",
    "\n",
    "1. Create a basic model\n",
    "2. Save it to disk\n",
    "3. Load it from disk\n",
    "4. Use it to make predictions about a dog who was not in the training dataset\n",
    "\n",
    "#   Load the dataset\n",
    "Let's begin by opening the dataset from file."
   ]
  },
  {
   "cell_type": "code",
   "execution_count": 1,
   "metadata": {},
   "outputs": [
    {
     "data": {
      "text/html": [
       "<div>\n",
       "<style scoped>\n",
       "    .dataframe tbody tr th:only-of-type {\n",
       "        vertical-align: middle;\n",
       "    }\n",
       "\n",
       "    .dataframe tbody tr th {\n",
       "        vertical-align: top;\n",
       "    }\n",
       "\n",
       "    .dataframe thead th {\n",
       "        text-align: right;\n",
       "    }\n",
       "</style>\n",
       "<table border=\"1\" class=\"dataframe\">\n",
       "  <thead>\n",
       "    <tr style=\"text-align: right;\">\n",
       "      <th></th>\n",
       "      <th>boot_size</th>\n",
       "      <th>harness_size</th>\n",
       "      <th>sex</th>\n",
       "      <th>age_years</th>\n",
       "    </tr>\n",
       "  </thead>\n",
       "  <tbody>\n",
       "    <tr>\n",
       "      <th>0</th>\n",
       "      <td>39</td>\n",
       "      <td>58</td>\n",
       "      <td>male</td>\n",
       "      <td>12.0</td>\n",
       "    </tr>\n",
       "    <tr>\n",
       "      <th>1</th>\n",
       "      <td>38</td>\n",
       "      <td>58</td>\n",
       "      <td>male</td>\n",
       "      <td>9.6</td>\n",
       "    </tr>\n",
       "    <tr>\n",
       "      <th>2</th>\n",
       "      <td>37</td>\n",
       "      <td>52</td>\n",
       "      <td>female</td>\n",
       "      <td>8.6</td>\n",
       "    </tr>\n",
       "    <tr>\n",
       "      <th>3</th>\n",
       "      <td>39</td>\n",
       "      <td>58</td>\n",
       "      <td>male</td>\n",
       "      <td>10.2</td>\n",
       "    </tr>\n",
       "    <tr>\n",
       "      <th>4</th>\n",
       "      <td>38</td>\n",
       "      <td>57</td>\n",
       "      <td>male</td>\n",
       "      <td>7.8</td>\n",
       "    </tr>\n",
       "  </tbody>\n",
       "</table>\n",
       "</div>"
      ],
      "text/plain": [
       "   boot_size  harness_size     sex  age_years\n",
       "0         39            58    male       12.0\n",
       "1         38            58    male        9.6\n",
       "2         37            52  female        8.6\n",
       "3         39            58    male       10.2\n",
       "4         38            57    male        7.8"
      ]
     },
     "execution_count": 1,
     "metadata": {},
     "output_type": "execute_result"
    }
   ],
   "source": [
    "import pandas\n",
    "\n",
    "#   load a file called 'doggy-boot-harness.csv' containing dog's boot and harness sizes\n",
    "\n",
    "data = pandas.read_csv('doggy-boot-harness.csv')\n",
    "\n",
    "# print the first 5 rows of the data frame\n",
    "data.head()\n"
   ]
  },
  {
   "cell_type": "markdown",
   "metadata": {},
   "source": [
    "#   Create and Train a model\n",
    "\n",
    "Ase we have done before, we will create a simple linear regression model and train it on our dataset"
   ]
  },
  {
   "cell_type": "code",
   "execution_count": 14,
   "metadata": {},
   "outputs": [
    {
     "name": "stdout",
     "output_type": "stream",
     "text": [
      "model trained\n"
     ]
    },
    {
     "data": {
      "text/html": [
       "<table class=\"simpletable\">\n",
       "<caption>OLS Regression Results</caption>\n",
       "<tr>\n",
       "  <th>Dep. Variable:</th>        <td>boot_size</td>    <th>  R-squared:         </th> <td>   0.569</td>\n",
       "</tr>\n",
       "<tr>\n",
       "  <th>Model:</th>                   <td>OLS</td>       <th>  Adj. R-squared:    </th> <td>   0.560</td>\n",
       "</tr>\n",
       "<tr>\n",
       "  <th>Method:</th>             <td>Least Squares</td>  <th>  F-statistic:       </th> <td>   63.37</td>\n",
       "</tr>\n",
       "<tr>\n",
       "  <th>Date:</th>             <td>Tue, 25 Jul 2023</td> <th>  Prob (F-statistic):</th> <td>2.53e-10</td>\n",
       "</tr>\n",
       "<tr>\n",
       "  <th>Time:</th>                 <td>22:40:16</td>     <th>  Log-Likelihood:    </th> <td> -93.054</td>\n",
       "</tr>\n",
       "<tr>\n",
       "  <th>No. Observations:</th>      <td>    50</td>      <th>  AIC:               </th> <td>   190.1</td>\n",
       "</tr>\n",
       "<tr>\n",
       "  <th>Df Residuals:</th>          <td>    48</td>      <th>  BIC:               </th> <td>   193.9</td>\n",
       "</tr>\n",
       "<tr>\n",
       "  <th>Df Model:</th>              <td>     1</td>      <th>                     </th>     <td> </td>   \n",
       "</tr>\n",
       "<tr>\n",
       "  <th>Covariance Type:</th>      <td>nonrobust</td>    <th>                     </th>     <td> </td>   \n",
       "</tr>\n",
       "</table>\n",
       "<table class=\"simpletable\">\n",
       "<tr>\n",
       "        <td></td>          <th>coef</th>     <th>std err</th>      <th>t</th>      <th>P>|t|</th>  <th>[0.025</th>    <th>0.975]</th>  \n",
       "</tr>\n",
       "<tr>\n",
       "  <th>Intercept</th>    <td>    5.7191</td> <td>    4.102</td> <td>    1.394</td> <td> 0.170</td> <td>   -2.528</td> <td>   13.966</td>\n",
       "</tr>\n",
       "<tr>\n",
       "  <th>harness_size</th> <td>    0.5859</td> <td>    0.074</td> <td>    7.960</td> <td> 0.000</td> <td>    0.438</td> <td>    0.734</td>\n",
       "</tr>\n",
       "</table>\n",
       "<table class=\"simpletable\">\n",
       "<tr>\n",
       "  <th>Omnibus:</th>       <td> 2.715</td> <th>  Durbin-Watson:     </th> <td>   1.717</td>\n",
       "</tr>\n",
       "<tr>\n",
       "  <th>Prob(Omnibus):</th> <td> 0.257</td> <th>  Jarque-Bera (JB):  </th> <td>   1.758</td>\n",
       "</tr>\n",
       "<tr>\n",
       "  <th>Skew:</th>          <td> 0.228</td> <th>  Prob(JB):          </th> <td>   0.415</td>\n",
       "</tr>\n",
       "<tr>\n",
       "  <th>Kurtosis:</th>      <td> 2.203</td> <th>  Cond. No.          </th> <td>1.02e+03</td>\n",
       "</tr>\n",
       "</table><br/><br/>Notes:<br/>[1] Standard Errors assume that the covariance matrix of the errors is correctly specified.<br/>[2] The condition number is large, 1.02e+03. This might indicate that there are<br/>strong multicollinearity or other numerical problems."
      ],
      "text/latex": [
       "\\begin{center}\n",
       "\\begin{tabular}{lclc}\n",
       "\\toprule\n",
       "\\textbf{Dep. Variable:}    &    boot\\_size    & \\textbf{  R-squared:         } &     0.569   \\\\\n",
       "\\textbf{Model:}            &       OLS        & \\textbf{  Adj. R-squared:    } &     0.560   \\\\\n",
       "\\textbf{Method:}           &  Least Squares   & \\textbf{  F-statistic:       } &     63.37   \\\\\n",
       "\\textbf{Date:}             & Tue, 25 Jul 2023 & \\textbf{  Prob (F-statistic):} &  2.53e-10   \\\\\n",
       "\\textbf{Time:}             &     22:40:16     & \\textbf{  Log-Likelihood:    } &   -93.054   \\\\\n",
       "\\textbf{No. Observations:} &          50      & \\textbf{  AIC:               } &     190.1   \\\\\n",
       "\\textbf{Df Residuals:}     &          48      & \\textbf{  BIC:               } &     193.9   \\\\\n",
       "\\textbf{Df Model:}         &           1      & \\textbf{                     } &             \\\\\n",
       "\\textbf{Covariance Type:}  &    nonrobust     & \\textbf{                     } &             \\\\\n",
       "\\bottomrule\n",
       "\\end{tabular}\n",
       "\\begin{tabular}{lcccccc}\n",
       "                       & \\textbf{coef} & \\textbf{std err} & \\textbf{t} & \\textbf{P$> |$t$|$} & \\textbf{[0.025} & \\textbf{0.975]}  \\\\\n",
       "\\midrule\n",
       "\\textbf{Intercept}     &       5.7191  &        4.102     &     1.394  &         0.170        &       -2.528    &       13.966     \\\\\n",
       "\\textbf{harness\\_size} &       0.5859  &        0.074     &     7.960  &         0.000        &        0.438    &        0.734     \\\\\n",
       "\\bottomrule\n",
       "\\end{tabular}\n",
       "\\begin{tabular}{lclc}\n",
       "\\textbf{Omnibus:}       &  2.715 & \\textbf{  Durbin-Watson:     } &    1.717  \\\\\n",
       "\\textbf{Prob(Omnibus):} &  0.257 & \\textbf{  Jarque-Bera (JB):  } &    1.758  \\\\\n",
       "\\textbf{Skew:}          &  0.228 & \\textbf{  Prob(JB):          } &    0.415  \\\\\n",
       "\\textbf{Kurtosis:}      &  2.203 & \\textbf{  Cond. No.          } & 1.02e+03  \\\\\n",
       "\\bottomrule\n",
       "\\end{tabular}\n",
       "%\\caption{OLS Regression Results}\n",
       "\\end{center}\n",
       "\n",
       "Notes: \\newline\n",
       " [1] Standard Errors assume that the covariance matrix of the errors is correctly specified. \\newline\n",
       " [2] The condition number is large, 1.02e+03. This might indicate that there are \\newline\n",
       " strong multicollinearity or other numerical problems."
      ],
      "text/plain": [
       "<class 'statsmodels.iolib.summary.Summary'>\n",
       "\"\"\"\n",
       "                            OLS Regression Results                            \n",
       "==============================================================================\n",
       "Dep. Variable:              boot_size   R-squared:                       0.569\n",
       "Model:                            OLS   Adj. R-squared:                  0.560\n",
       "Method:                 Least Squares   F-statistic:                     63.37\n",
       "Date:                Tue, 25 Jul 2023   Prob (F-statistic):           2.53e-10\n",
       "Time:                        22:40:16   Log-Likelihood:                -93.054\n",
       "No. Observations:                  50   AIC:                             190.1\n",
       "Df Residuals:                      48   BIC:                             193.9\n",
       "Df Model:                           1                                         \n",
       "Covariance Type:            nonrobust                                         \n",
       "================================================================================\n",
       "                   coef    std err          t      P>|t|      [0.025      0.975]\n",
       "--------------------------------------------------------------------------------\n",
       "Intercept        5.7191      4.102      1.394      0.170      -2.528      13.966\n",
       "harness_size     0.5859      0.074      7.960      0.000       0.438       0.734\n",
       "==============================================================================\n",
       "Omnibus:                        2.715   Durbin-Watson:                   1.717\n",
       "Prob(Omnibus):                  0.257   Jarque-Bera (JB):                1.758\n",
       "Skew:                           0.228   Prob(JB):                        0.415\n",
       "Kurtosis:                       2.203   Cond. No.                     1.02e+03\n",
       "==============================================================================\n",
       "\n",
       "Notes:\n",
       "[1] Standard Errors assume that the covariance matrix of the errors is correctly specified.\n",
       "[2] The condition number is large, 1.02e+03. This might indicate that there are\n",
       "strong multicollinearity or other numerical problems.\n",
       "\"\"\""
      ]
     },
     "execution_count": 14,
     "metadata": {},
     "output_type": "execute_result"
    }
   ],
   "source": [
    "import statsmodels.formula.api as smf\n",
    "\n",
    "# Fit a simple model that finds a lienar relationship between boot size and harness size\n",
    "# using data from the data frame df\n",
    "model = smf.ols(formula='boot_size ~ harness_size', data=data).fit()\n",
    "print('model trained')\n",
    "model.summary()"
   ]
  },
  {
   "cell_type": "markdown",
   "metadata": {},
   "source": [
    "# Save and load a model\n",
    "\n",
    "Our model is ready to use, but we don;t need it yet, let's save it to disk:"
   ]
  },
  {
   "cell_type": "code",
   "execution_count": 15,
   "metadata": {},
   "outputs": [
    {
     "name": "stdout",
     "output_type": "stream",
     "text": [
      "model saved to ./avalanche_dog_boot_model.pkl\n"
     ]
    }
   ],
   "source": [
    "import joblib\n",
    "\n",
    "model_filename = './avalanche_dog_boot_model.pkl'\n",
    "joblib.dump(model, model_filename)\n",
    "\n",
    "print('model saved to', model_filename)"
   ]
  },
  {
   "cell_type": "markdown",
   "metadata": {},
   "source": [
    "Loading the model is just as easy:"
   ]
  },
  {
   "cell_type": "code",
   "execution_count": 16,
   "metadata": {},
   "outputs": [
    {
     "data": {
      "text/plain": [
       "Intercept       5.719110\n",
       "harness_size    0.585925\n",
       "dtype: float64"
      ]
     },
     "execution_count": 16,
     "metadata": {},
     "output_type": "execute_result"
    }
   ],
   "source": [
    "model_loaded = joblib.load(model_filename)\n",
    "\n",
    "model_loaded.params"
   ]
  },
  {
   "cell_type": "markdown",
   "metadata": {},
   "source": [
    "# Put it together\n",
    "On our website, we'll want to take the harness of our customer's dog, then calculate their dog's boot size using the model that we've already trained.\n",
    "\n",
    "Let's put everything here together to make a function that loads the model from disk, then uses it to predict our customer's dog's boot size height."
   ]
  },
  {
   "cell_type": "code",
   "execution_count": 19,
   "metadata": {},
   "outputs": [
    {
     "name": "stdout",
     "output_type": "stream",
     "text": [
      "We've loaded a model with the following parameters:\n",
      "Intercept       5.719110\n",
      "harness_size    0.585925\n",
      "dtype: float64\n",
      "Predicted dog boot size: 32.08575356590479\n"
     ]
    }
   ],
   "source": [
    "# Let's write a function that loads and uses our model\n",
    "def load_model_and_predict(harness_size):\n",
    "    '''\n",
    "    This function loads a pretrained model. It uses the model\n",
    "    with the customer's dog's harness size to predict the size of\n",
    "    boots that will fit that dog.\n",
    "\n",
    "    harness_size: The dog harness size, in cm \n",
    "    '''\n",
    "\n",
    "    # Load the model from file and print basic information about it\n",
    "    loaded_model = joblib.load(model_filename)\n",
    "\n",
    "    print(\"We've loaded a model with the following parameters:\")\n",
    "    print(loaded_model.params)\n",
    "\n",
    "    # Prepare data for the model\n",
    "    inputs = {\"harness_size\":[harness_size]} \n",
    "\n",
    "    # Use the model to make a prediction\n",
    "    predicted_boot_size = loaded_model.predict(inputs)[0]\n",
    "\n",
    "    return predicted_boot_size\n",
    "\n",
    "# Let's try it out!\n",
    "predicted_boot_size = load_model_and_predict(45)\n",
    "print(\"Predicted dog boot size:\", predicted_boot_size)\n"
   ]
  },
  {
   "cell_type": "markdown",
   "metadata": {},
   "source": [
    "# Real world use\n",
    "\n",
    "\n",
    "We've done it; we can predict an avalanche dog's boot size based on the size of their harness. Our last step is to use this to warn people if they might be buying the wrong sized doggy boots.\n",
    "\n",
    "As an example, we'll make a function that accepts the harness size, the size of the boots selected, and returns a message for the customer. We would integrate this function into our online store.\n"
   ]
  },
  {
   "cell_type": "code",
   "execution_count": 21,
   "metadata": {},
   "outputs": [
    {
     "name": "stdout",
     "output_type": "stream",
     "text": [
      "We've loaded a model with the following parameters:\n",
      "Intercept       5.719110\n",
      "harness_size    0.585925\n",
      "dtype: float64\n"
     ]
    },
    {
     "data": {
      "text/plain": [
       "'The boots you have selected might be TOO BIG for a dog as small as yours. We recommend a doggy boots size of 38.'"
      ]
     },
     "execution_count": 21,
     "metadata": {},
     "output_type": "execute_result"
    }
   ],
   "source": [
    "def check_size_of_boots(selected_harness_size, selected_boot_size):\n",
    "    '''\n",
    "    Calculates whether the customer has chosen a pair of doggy boots that \n",
    "    are a sensible size. This works by estimating the dog's actual boot \n",
    "    size from their harness size.\n",
    "\n",
    "    This returns a message for the customer that should be shown before\n",
    "    they complete their payment \n",
    "\n",
    "    selected_harness_size: The size of the harness the customer wants to buy\n",
    "    selected_boot_size: The size of the doggy boots the customer wants to buy\n",
    "    '''\n",
    "\n",
    "    # Estimate the customer's dog's boot size\n",
    "    estimated_boot_size = load_model_and_predict(selected_harness_size)\n",
    "\n",
    "    # Round to the nearest whole number because we don't sell partial sizes\n",
    "    estimated_boot_size = int(round(estimated_boot_size))\n",
    "\n",
    "    # Check if the boot size selected is appropriate\n",
    "    if selected_boot_size == estimated_boot_size:\n",
    "        # The selected boots are probably OK\n",
    "        return f\"Great choice! We think these boots will fit your avalanche dog well.\"\n",
    "\n",
    "    if selected_boot_size < estimated_boot_size:\n",
    "        # Selected boots might be too small \n",
    "        return \"The boots you have selected might be TOO SMALL for a dog as \"\\\n",
    "               f\"big as yours. We recommend a doggy boots size of {estimated_boot_size}.\"\n",
    "\n",
    "    if selected_boot_size > estimated_boot_size:\n",
    "        # Selected boots might be too big \n",
    "        return \"The boots you have selected might be TOO BIG for a dog as \"\\\n",
    "               f\"small as yours. We recommend a doggy boots size of {estimated_boot_size}.\"\n",
    "    \n",
    "\n",
    "# Practice using our new warning system\n",
    "check_size_of_boots(selected_harness_size=55, selected_boot_size=40)"
   ]
  },
  {
   "cell_type": "markdown",
   "metadata": {},
   "source": [
    "We can change selected_harness_size and selected_boot_size in the preceding example and re-run the cell to see this in action.\n",
    "\n",
    "# Summary\n",
    "Well done! We've put together a system that can predict if customers are buying doggy boots that may not fit their avalanche dog, based solely on the size of harness they're purchasing.\n",
    "\n",
    "In this exercise, we practiced:\n",
    "\n",
    "1. Creating basic models\n",
    "2. Training, then saving them to disk\n",
    "3. Loading them from disk\n",
    "4. Making predictions with them using new data sets"
   ]
  }
 ],
 "metadata": {
  "kernelspec": {
   "display_name": "Python 3",
   "language": "python",
   "name": "python3"
  },
  "language_info": {
   "codemirror_mode": {
    "name": "ipython",
    "version": 3
   },
   "file_extension": ".py",
   "mimetype": "text/x-python",
   "name": "python",
   "nbconvert_exporter": "python",
   "pygments_lexer": "ipython3",
   "version": "3.10.8"
  },
  "orig_nbformat": 4
 },
 "nbformat": 4,
 "nbformat_minor": 2
}
