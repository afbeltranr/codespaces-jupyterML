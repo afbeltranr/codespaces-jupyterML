{
 "cells": [
  {
   "cell_type": "markdown",
   "metadata": {},
   "source": [
    "# Alternative metrics for binary classifiers\n",
    "\n",
    "Accuracy seems like a sensible metric to evaluate (and to a certain extent it is), but you need to be careful about drawing too many conclusions from the accuracy of a classifier. Remember that it's simply a measure of how many cases were predicted correctly. Suppose only 3% of the population is diabetic. You could create a classifier that always just predicts 0, and it would be 97% accurate - but not terribly helpful in identifying patients with diabetes!\n",
    "\n",
    "Fortunately, there are some other metrics that reveal a little more about how our model is performing. Scikit-Learn includes the ability to create a classification report that provides more insight than raw accuracy alone.\n",
    "\n",
    "To get started, run the next cell to load our data and train our model like last time"
   ]
  },
  {
   "cell_type": "code",
   "execution_count": 2,
   "metadata": {},
   "outputs": [
    {
     "name": "stderr",
     "output_type": "stream",
     "text": [
      "'wget' is not recognized as an internal or external command,\n",
      "operable program or batch file.\n"
     ]
    },
    {
     "name": "stdout",
     "output_type": "stream",
     "text": [
      "Accuracy:  0.7893333333333333\n",
      "Precision:  0.7242472266244057\n",
      "Recall:  0.6036988110964333\n",
      "F1:  0.6585014409221902\n",
      "AUC:  0.7435774698482835\n"
     ]
    }
   ],
   "source": [
    "import pandas as pd\n",
    "from matplotlib import pyplot as plt\n",
    "%matplotlib inline\n",
    "from sklearn.model_selection import train_test_split\n",
    "from sklearn.metrics import accuracy_score, precision_score, recall_score, f1_score, roc_auc_score, roc_curve\n",
    "\n",
    "# load the training dataset\n",
    "\n",
    "!wget https://raw.githubusercontent.com/MicrosoftDocs/mslearn-introduction-to-machine-learning/main/Data/ml-basics/diabetes.csv\n",
    "\n",
    "diabetes = pd.read_csv('diabetes.csv')\n",
    "\n",
    "# separate features and labels\n",
    "\n",
    "# select all column names but the first and last. first is patient ID, last is the label\n",
    "features  = list(diabetes.columns)[1:-1]\n",
    "\n",
    "label = diabetes.columns[-1]\n",
    "\n",
    "X , y  = diabetes[features].values, diabetes[label].values\n",
    "\n",
    "# split data 0.7-0.3 into training set and test set\n",
    "\n",
    "X_train, X_test, y_train, y_test = train_test_split(X, y, test_size=0.30, random_state=0)\n",
    "\n",
    "# train the logistic regression model\n",
    "\n",
    "from sklearn.linear_model import LogisticRegression\n",
    "reg = 0.01 #regularization rate\n",
    "model = LogisticRegression(C=1/reg, solver=\"liblinear\").fit(X_train,y_train)\n",
    "\n",
    "# predict labels for test set\n",
    "\n",
    "predictions =  model.predict(X_test)\n",
    "\n",
    "\n",
    "\n",
    "\n",
    "print('Accuracy: ', accuracy_score(y_test, model.predict(X_test)))\n",
    "print('Precision: ', precision_score(y_test, model.predict(X_test)))\n",
    "print('Recall: ', recall_score(y_test, model.predict(X_test)))\n",
    "print('F1: ', f1_score(y_test, model.predict(X_test)))\n",
    "print('AUC: ', roc_auc_score(y_test, model.predict(X_test)))\n",
    "\n"
   ]
  },
  {
   "cell_type": "markdown",
   "metadata": {},
   "source": [
    "One of the simplest places to start is a classification report: https://scikit-learn.org/stable/modules/generated/sklearn.metrics.classification_report.html"
   ]
  },
  {
   "cell_type": "code",
   "execution_count": 3,
   "metadata": {},
   "outputs": [
    {
     "name": "stdout",
     "output_type": "stream",
     "text": [
      "              precision    recall  f1-score   support\n",
      "\n",
      "           0       0.81      0.88      0.85      2986\n",
      "           1       0.72      0.60      0.66      1514\n",
      "\n",
      "    accuracy                           0.79      4500\n",
      "   macro avg       0.77      0.74      0.75      4500\n",
      "weighted avg       0.78      0.79      0.78      4500\n",
      "\n"
     ]
    }
   ],
   "source": [
    "from sklearn.metrics import classification_report\n",
    "print(classification_report(y_test, predictions, ))"
   ]
  },
  {
   "cell_type": "markdown",
   "metadata": {},
   "source": [
    "These metrics come from a confusion matrix, which is a table that shows the number of correct and incorrect predictions made by the classification model compared to the actual outcomes (target value) in the data.\n"
   ]
  },
  {
   "cell_type": "markdown",
   "metadata": {},
   "source": []
  },
  {
   "cell_type": "markdown",
   "metadata": {},
   "source": [
    "The confusion matrix is built with the following components: \n",
    "\n",
    "* True positive: When the predicted and actual label are both 1. (2,2)\n",
    "* False positive: When the predicted label is 1 and the actual label is 0. (1,2)\n",
    "* True negative: When the predicted and actual label are both 0. (1,1)\n",
    "* False negative: When the predicted label is 0 and the actual label is 1. (2,1)\n"
   ]
  },
  {
   "cell_type": "code",
   "execution_count": 4,
   "metadata": {},
   "outputs": [
    {
     "data": {
      "text/plain": [
       "array([[2638,  348],\n",
       "       [ 600,  914]], dtype=int64)"
      ]
     },
     "execution_count": 4,
     "metadata": {},
     "output_type": "execute_result"
    }
   ],
   "source": [
    "from sklearn.metrics import confusion_matrix\n",
    "\n",
    "# print the confusion matrix\n",
    "\n",
    "confusionMatrix  = confusion_matrix(y_test, predictions)\n",
    "confusionMatrix[0,0]\n",
    "confusionMatrix"
   ]
  },
  {
   "cell_type": "markdown",
   "metadata": {},
   "source": [
    "What actually gets predicted by a binary classifier is the probability that the label is true **P(Y)** and the probability the label is false 1-**P(Y)**. The classifier then makes a decision based on a threshold. If the probability is greater than the threshold, the label is predicted to be true, otherwise it is predicted to be false. The threshold is usually set to 0.5, but it can be changed to adjust the classifier's behavior.\n",
    "\n",
    "We can use the **predict_proba**  to see the probability pairs for each case:"
   ]
  },
  {
   "cell_type": "code",
   "execution_count": 5,
   "metadata": {},
   "outputs": [
    {
     "data": {
      "text/plain": [
       "array([[0.81657116, 0.18342884],\n",
       "       [0.9630332 , 0.0369668 ],\n",
       "       [0.80872619, 0.19127381],\n",
       "       ...,\n",
       "       [0.60692458, 0.39307542],\n",
       "       [0.10656641, 0.89343359],\n",
       "       [0.63859127, 0.36140873]])"
      ]
     },
     "execution_count": 5,
     "metadata": {},
     "output_type": "execute_result"
    }
   ],
   "source": [
    "y_scores = model.predict_proba(X_test)\n",
    "y_scores"
   ]
  },
  {
   "cell_type": "markdown",
   "metadata": {},
   "source": [
    "A common way to evaluate a cclassifier is to examine the true positive rate (TPR) (recall) and the false positive rate (FPR) for a range of possible thresholds to form a chart known as received operator characteristic (ROC) chart like this:"
   ]
  },
  {
   "cell_type": "code",
   "execution_count": 10,
   "metadata": {},
   "outputs": [
    {
     "data": {
      "image/png": "[encoded data removed]",
      "text/plain": [
       "<Figure size 600x600 with 1 Axes>"
      ]
     },
     "metadata": {},
     "output_type": "display_data"
    }
   ],
   "source": [
    "from sklearn.metrics import roc_curve\n",
    "import matplotlib.pyplot as plt\n",
    "%matplotlib inline\n",
    "\n",
    "# calculate roc curve\n",
    "fpr, tpr, thresholds = roc_curve(y_test, y_scores[:,1] )\n",
    "\n",
    "# plot roc curve\n",
    "\n",
    "fig = plt.figure(figsize=(6,6))\n",
    "# Plot the diagonal 50% line\n",
    "plt.plot([0, 1], [0, 1], 'k--')\n",
    "# Plot the FPR and TPR achieved by our model\n",
    "plt.plot(fpr, tpr)\n",
    "plt.xlabel('False Positive Rate')\n",
    "plt.ylabel('True Positive Rate')\n",
    "plt.title('ROC Curve')\n",
    "plt.show()\n",
    "\n"
   ]
  },
  {
   "cell_type": "markdown",
   "metadata": {},
   "source": [
    "The ROC chart shows the performance of a classification model at all classification thresholds. Specifically, the ROC chart plots the false positive rate (FPR) on the X-axis and the true positive rate (TPR) on the Y-axis. The FPR is the ratio of negative instances that are incorrectly classified as positive. It is equal to one minus the true negative rate (TNR), which is the ratio of negative instances that are correctly classified as negative. The TNR is also called specificity. Hence, the ROC curve plots sensitivity (recall) versus 1 – specificity.\n",
    "\n",
    "The area under the curve (AUC) is a valie between 0 and 1. A model whose predictions are 100% wrong has an AUC of 0.0; one whose predictions are 100% correct has an AUC of 1.0. In general, a model whose predictions are no better than random has an AUC of 0.5."
   ]
  },
  {
   "cell_type": "code",
   "execution_count": 12,
   "metadata": {},
   "outputs": [
    {
     "name": "stdout",
     "output_type": "stream",
     "text": [
      "AUC: 0.857\n"
     ]
    }
   ],
   "source": [
    "from sklearn.metrics import roc_auc_score\n",
    "\n",
    "auc = roc_auc_score(y_test, y_scores[:,1])\n",
    "print('AUC: %.3f' % auc)"
   ]
  },
  {
   "cell_type": "markdown",
   "metadata": {},
   "source": [
    "# perform preprocessing in a pipeline   \n",
    "\n",
    " "
   ]
  }
 ],
 "metadata": {
  "kernelspec": {
   "display_name": "base",
   "language": "python",
   "name": "python3"
  },
  "language_info": {
   "codemirror_mode": {
    "name": "ipython",
    "version": 3
   },
   "file_extension": ".py",
   "mimetype": "text/x-python",
   "name": "python",
   "nbconvert_exporter": "python",
   "pygments_lexer": "ipython3",
   "version": "3.9.13"
  },
  "orig_nbformat": 4
 },
 "nbformat": 4,
 "nbformat_minor": 2
}
